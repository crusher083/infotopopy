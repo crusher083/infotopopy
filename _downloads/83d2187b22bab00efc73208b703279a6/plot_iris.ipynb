{
  "cells": [
    {
      "cell_type": "code",
      "execution_count": null,
      "metadata": {
        "collapsed": false
      },
      "outputs": [],
      "source": [
        "%matplotlib inline"
      ]
    },
    {
      "cell_type": "markdown",
      "metadata": {},
      "source": [
        "\nExample using the iris dataset\n==============================\n\nThis example illustrates infotopo using the Iris dataset.\n\n"
      ]
    },
    {
      "cell_type": "code",
      "execution_count": null,
      "metadata": {
        "collapsed": false
      },
      "outputs": [],
      "source": [
        "from infotopo import Infotopo\nfrom infotopo.io import load_data_sets\n\nimport matplotlib.pyplot as plt"
      ]
    },
    {
      "cell_type": "markdown",
      "metadata": {},
      "source": [
        "Loading the dataset\n##############################################################################\n First, start by loading the data and make the plot of the distributions\n\n"
      ]
    },
    {
      "cell_type": "code",
      "execution_count": null,
      "metadata": {
        "collapsed": false
      },
      "outputs": [],
      "source": [
        "dataset, nb_of_values = load_data_sets(1, plot_data=True)\nplt.show()"
      ]
    },
    {
      "cell_type": "markdown",
      "metadata": {},
      "source": [
        "Define an infotopo object\n##############################################################################\n Then we defined an infotopo example\n\n"
      ]
    },
    {
      "cell_type": "code",
      "execution_count": null,
      "metadata": {
        "collapsed": false
      },
      "outputs": [],
      "source": [
        "dimension_max = dataset.shape[1]\ndimension_tot = dataset.shape[1]\nsample_size = dataset.shape[0]\nforward_computation_mode = False\nwork_on_transpose = False\nsupervised_mode = False\nsampling_mode = 1\ndeformed_probability_mode = False   \n\ninformation_topo = Infotopo(\n    dimension_max=dimension_max,\n    dimension_tot=dimension_tot,\n    sample_size=sample_size,\n    work_on_transpose=work_on_transpose,\n    nb_of_values=nb_of_values,\n    sampling_mode=sampling_mode,\n    deformed_probability_mode=deformed_probability_mode,\n    supervised_mode=supervised_mode,\n    forward_computation_mode=forward_computation_mode)\n\nNentropie = information_topo.simplicial_entropies_decomposition(dataset) \ninformation_topo.entropy_simplicial_lanscape(Nentropie)"
      ]
    }
  ],
  "metadata": {
    "kernelspec": {
      "display_name": "Python 3",
      "language": "python",
      "name": "python3"
    },
    "language_info": {
      "codemirror_mode": {
        "name": "ipython",
        "version": 3
      },
      "file_extension": ".py",
      "mimetype": "text/x-python",
      "name": "python",
      "nbconvert_exporter": "python",
      "pygments_lexer": "ipython3",
      "version": "3.6.12"
    }
  },
  "nbformat": 4,
  "nbformat_minor": 0
}